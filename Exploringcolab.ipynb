{
  "nbformat": 4,
  "nbformat_minor": 0,
  "metadata": {
    "colab": {
      "provenance": [],
      "authorship_tag": "ABX9TyPMY0M/fRafiWbwacWTniQq",
      "include_colab_link": true
    },
    "kernelspec": {
      "name": "python3",
      "display_name": "Python 3"
    },
    "language_info": {
      "name": "python"
    }
  },
  "cells": [
    {
      "cell_type": "markdown",
      "metadata": {
        "id": "view-in-github",
        "colab_type": "text"
      },
      "source": [
        "<a href=\"https://colab.research.google.com/github/lucixsherry06/piaic-61batch/blob/main/Exploringcolab.ipynb\" target=\"_parent\"><img src=\"https://colab.research.google.com/assets/colab-badge.svg\" alt=\"Open In Colab\"/></a>"
      ]
    },
    {
      "cell_type": "code",
      "source": [
        "# This is start of the journey to learn Google Colab."
      ],
      "metadata": {
        "id": "EtWv-AMDIRTZ"
      },
      "execution_count": 2,
      "outputs": []
    },
    {
      "cell_type": "code",
      "execution_count": 1,
      "metadata": {
        "colab": {
          "base_uri": "https://localhost:8080/"
        },
        "id": "b9AiNrPTG0Ss",
        "outputId": "187b89be-5357-4156-f423-20918e21d263"
      },
      "outputs": [
        {
          "output_type": "stream",
          "name": "stdout",
          "text": [
            "Enter a username: lucixsherry06\n",
            "Enter a password: 12345678\n",
            "Welcome, lucixsherry06! You have successfully signed up.\n"
          ]
        }
      ],
      "source": [
        "# prompt: Create a simple function of welcoming the user after getting them to signup with a user name and password and then welcome them with their username\n",
        "\n",
        "def signup_and_welcome():\n",
        "  \"\"\"Gets user signup information and then welcomes them.\"\"\"\n",
        "\n",
        "  username = input(\"Enter a username: \")\n",
        "  password = input(\"Enter a password: \")\n",
        "\n",
        "  print(f\"Welcome, {username}! You have successfully signed up.\")\n",
        "\n",
        "signup_and_welcome()\n"
      ]
    }
  ]
}